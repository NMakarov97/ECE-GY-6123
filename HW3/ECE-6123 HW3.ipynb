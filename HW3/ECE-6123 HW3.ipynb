{
 "cells": [
  {
   "cell_type": "markdown",
   "metadata": {},
   "source": [
    "### ECE-GY 6123\n",
    "### Nikita Makarov, Fall 2024"
   ]
  },
  {
   "cell_type": "markdown",
   "metadata": {},
   "source": [
    "### Homework 3"
   ]
  },
  {
   "cell_type": "markdown",
   "metadata": {},
   "source": [
    "Problem 1a:"
   ]
  },
  {
   "cell_type": "code",
   "execution_count": 5,
   "metadata": {},
   "outputs": [],
   "source": [
    "import numpy as np\n",
    "import cv2\n",
    "\n",
    "# Create Gaussian Pyramid function\n",
    "def gaussian_pyramid(im_data: np.ndarray, J: int) -> list[np.ndarray]:\n",
    "    '''\n",
    "    Compute and return the J-level Gaussian pyramid decomposition of a grayscale image.\n",
    "\n",
    "    Parameters:\n",
    "    im_data: 2D numpy array of the image data in grayscale\n",
    "    J: int of the Gaussian pyramid level\n",
    "\n",
    "    Returns:\n",
    "    G: list of size J filled with 2D numpy arrays of the Gaussian pyramid, with the first element being level J\n",
    "    '''\n",
    "\n",
    "    # Create Gaussian pyramid structure\n",
    "    G = [im_data] # Create list with first element as level J\n",
    "\n",
    "    return G\n",
    "\n",
    "image = cv2.imread('coins.png', cv2.IMREAD_GRAYSCALE)\n",
    "pass"
   ]
  }
 ],
 "metadata": {
  "kernelspec": {
   "display_name": ".venv",
   "language": "python",
   "name": "python3"
  },
  "language_info": {
   "codemirror_mode": {
    "name": "ipython",
    "version": 3
   },
   "file_extension": ".py",
   "mimetype": "text/x-python",
   "name": "python",
   "nbconvert_exporter": "python",
   "pygments_lexer": "ipython3",
   "version": "3.12.2"
  }
 },
 "nbformat": 4,
 "nbformat_minor": 2
}
