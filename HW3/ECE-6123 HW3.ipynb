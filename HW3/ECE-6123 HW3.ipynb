{
 "cells": [
  {
   "cell_type": "markdown",
   "metadata": {},
   "source": [
    "### ECE-GY 6123\n",
    "### Nikita Makarov, Fall 2024"
   ]
  },
  {
   "cell_type": "markdown",
   "metadata": {},
   "source": [
    "### Homework 3"
   ]
  },
  {
   "cell_type": "markdown",
   "metadata": {},
   "source": [
    "Problem 1a:"
   ]
  },
  {
   "cell_type": "code",
   "execution_count": 9,
   "metadata": {},
   "outputs": [],
   "source": [
    "import numpy as np\n",
    "import cv2\n",
    "\n",
    "# Create Gaussian Pyramid function\n",
    "def gaussian_pyramid(im_data: np.ndarray, J: int) -> list[np.ndarray]:\n",
    "    '''\n",
    "    Compute and return the J-level Gaussian pyramid decomposition of a grayscale image.\n",
    "\n",
    "    Parameters:\n",
    "    im_data: 2D numpy array of the image data in grayscale\n",
    "    J: int of the Gaussian pyramid level\n",
    "\n",
    "    Returns:\n",
    "    G: list of size J filled with 2D numpy arrays of the Gaussian pyramid, with the first element being level 0\n",
    "    '''\n",
    "\n",
    "    # Create Gaussian pyramid structure\n",
    "    G = [im_data] # Create list with last element as level J\n",
    "\n",
    "    # Iterate over all remaining levels\n",
    "    for _ in range(0,J-1):\n",
    "        width = int(im_data.shape[1]/2) # Calculate new width\n",
    "        height = int(im_data.shape[0]/2) # Calculate new height\n",
    "        im_data = cv2.resize(im_data,(width,height),interpolation=cv2.INTER_LINEAR) # Get next layer of image data\n",
    "        G.insert(0, im_data) # Add new layer to front of list\n",
    "\n",
    "    return G\n",
    "\n",
    "# Create Laplacian Pyramid function\n",
    "def laplacian_pyramid(im_data: np.ndarray, J: int) -> list[np.ndarray]:\n",
    "    '''\n",
    "    Compute and return the J-level Laplacian pyramid decomposition of a grayscale image.\n",
    "\n",
    "    Parameters:\n",
    "    im_data: 2D numpy array of the image data in grayscale\n",
    "    J: int of the Laplacian pyramid level\n",
    "\n",
    "    Returns:\n",
    "    L: list of size J filled with 2D numpy arrays of the Laplacian pyramid, with the first element being level 0\n",
    "    '''\n",
    "\n",
    "    # Calculate Gaussian pyramid structure\n",
    "    G = gaussian_pyramid(im_data, J)\n",
    "\n",
    "    # Create Laplacian pyramid structure\n",
    "    L = [G.pop(0)] # Create list with first element as level 0\n",
    "\n",
    "    # Iterate over all remaining levels\n",
    "    for i in range(0,J-1):\n",
    "        im_data = G.pop(0) # Get first element in Gaussian pyramid\n",
    "        (height,width) = im_data.shape # Get new width and height\n",
    "        U = cv2.resize(L[i],(width,height),interpolation=cv2.INTER_CUBIC) # Perform upscaling for next layer\n",
    "        L.append(im_data - U) # Add new layer to end of list\n",
    "\n",
    "    return L\n",
    "\n",
    "image = cv2.imread('coins.png', cv2.IMREAD_GRAYSCALE)\n",
    "G = gaussian_pyramid(image, 3)\n",
    "L = laplacian_pyramid(image, 3)\n",
    "pass"
   ]
  },
  {
   "cell_type": "markdown",
   "metadata": {},
   "source": [
    "Problem 1b:"
   ]
  },
  {
   "cell_type": "code",
   "execution_count": null,
   "metadata": {},
   "outputs": [],
   "source": [
    "# Create Laplacian reconstruction function\n",
    "def reconstruct_laplacian(L: list[np.ndarray]) -> np.ndarray:\n",
    "    '''\n",
    "    Reconstruct and return a grayscale image from a Laplacian pyramid structure.\n",
    "\n",
    "    Parameters:\n",
    "    L: list of size J filled with 2D numpy arrays of the Laplacian pyramid, with the first element being element 0\n",
    "\n",
    "    Returns:\n",
    "    im_data: 2D numpy array of the reconstructed image in grayscale\n",
    "    '''"
   ]
  }
 ],
 "metadata": {
  "kernelspec": {
   "display_name": ".venv",
   "language": "python",
   "name": "python3"
  },
  "language_info": {
   "codemirror_mode": {
    "name": "ipython",
    "version": 3
   },
   "file_extension": ".py",
   "mimetype": "text/x-python",
   "name": "python",
   "nbconvert_exporter": "python",
   "pygments_lexer": "ipython3",
   "version": "3.12.2"
  }
 },
 "nbformat": 4,
 "nbformat_minor": 2
}
