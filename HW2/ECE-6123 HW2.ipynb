{
 "cells": [
  {
   "cell_type": "markdown",
   "metadata": {},
   "source": [
    "### ECE-GY 6123\n",
    "### Nikita Makarov, Fall 2024"
   ]
  },
  {
   "cell_type": "markdown",
   "metadata": {},
   "source": [
    "### Homework 2"
   ]
  },
  {
   "cell_type": "markdown",
   "metadata": {},
   "source": [
    "Problem 1a:"
   ]
  },
  {
   "cell_type": "code",
   "execution_count": 61,
   "metadata": {},
   "outputs": [],
   "source": [
    "from PIL import Image\n",
    "import numpy as np\n",
    "%matplotlib inline\n",
    "from matplotlib import pyplot as plt\n",
    "\n",
    "# Create conv2 function\n",
    "def conv2(A: np.ndarray, B: np.ndarray) -> np.ndarray:\n",
    "    '''\n",
    "    Compute and return the same-padded 2D convolution of two matrices A and B.\n",
    "\n",
    "    Parameters:\n",
    "    A: 2D numpy array of the first matrix\n",
    "    B: 2D numpy array of the second matrix\n",
    "\n",
    "    Returns:\n",
    "    C: 2D numpy array of the same-padded 2D convolution matrix\n",
    "    '''\n",
    "\n",
    "    # Calculate final shape of C and preallocate\n",
    "    [ma, na] = np.shape(A)\n",
    "    [mb, nb] = np.shape(B)\n",
    "    mc = ma + mb - 1\n",
    "    nc = na + nb - 1\n",
    "    C = np.zeros([mc,nc])\n",
    "\n",
    "    # Iterate over all elements in C\n",
    "    for j in range(-1,mc):\n",
    "        for k in range(-1,nc):\n",
    "            for p in range(max(0, j+2-mb), min(ma, j+2), 1):\n",
    "                for q in range(max(0, k+2-nb), min(na, k+2), 1):\n",
    "                    C[j+1,k+1] = C[j+1,k+1] + (A[p,q] * B[j-p+1,k-q+1]) # Sum over p and q to compute convolution\n",
    "\n",
    "    # Subset for 'same' padding\n",
    "    mi = int(abs(mc-ma)/2) # Starting index for axis 1\n",
    "    ni = int(abs(nc-na)/2) # Starting index for axis 2\n",
    "    return C[mi:mi+ma,ni:ni+na]\n"
   ]
  },
  {
   "cell_type": "markdown",
   "metadata": {},
   "source": [
    "Problem 1b:"
   ]
  },
  {
   "cell_type": "code",
   "execution_count": 74,
   "metadata": {},
   "outputs": [],
   "source": [
    "# Create plot_filtering function\n",
    "def plot_filtering(data: np.ndarray, filter: np.ndarray) -> None:\n",
    "    '''\n",
    "    Filter the given image using the given filter and plot the following:\n",
    "    - Original image and filtered image\n",
    "    - Log-magnitude spectrum of the original image, filter, and filtered image\n",
    "\n",
    "    Parameters:\n",
    "    data: 2D numpy array of the image data in grayscale\n",
    "    filter: 2D numpy array of the filter matrix\n",
    "    '''\n",
    "\n",
    "    # Compute filtered image\n",
    "    data_filter = conv2(data, filter)\n",
    "\n",
    "    # Create figure for original image\n",
    "    plt.figure()\n",
    "    plt.imshow(data, interpolation='none', cmap='gray', vmin=0, vmax=255)\n",
    "    plt.title('Original Image')\n",
    "    plt.axis('off')\n",
    "    plt.colorbar()\n"
   ]
  }
 ],
 "metadata": {
  "kernelspec": {
   "display_name": ".venv",
   "language": "python",
   "name": "python3"
  },
  "language_info": {
   "codemirror_mode": {
    "name": "ipython",
    "version": 3
   },
   "file_extension": ".py",
   "mimetype": "text/x-python",
   "name": "python",
   "nbconvert_exporter": "python",
   "pygments_lexer": "ipython3",
   "version": "3.12.2"
  }
 },
 "nbformat": 4,
 "nbformat_minor": 2
}
