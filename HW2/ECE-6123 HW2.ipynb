{
 "cells": [
  {
   "cell_type": "markdown",
   "metadata": {},
   "source": [
    "### ECE-GY 6123\n",
    "### Nikita Makarov, Fall 2024"
   ]
  },
  {
   "cell_type": "markdown",
   "metadata": {},
   "source": [
    "### Homework 2"
   ]
  },
  {
   "cell_type": "markdown",
   "metadata": {},
   "source": [
    "Problem 1a:"
   ]
  },
  {
   "cell_type": "code",
   "execution_count": null,
   "metadata": {},
   "outputs": [],
   "source": [
    "from PIL import Image\n",
    "import numpy as np\n",
    "%matplotlib inline\n",
    "from matplotlib import pyplot as plt\n",
    "\n",
    "# Create conv2 function\n",
    "def conv2(A: np.ndarray, B: np.ndarray) -> np.ndarray:\n",
    "    '''\n",
    "    Compute and return the same-padded 2D convolution of two matrices A and B.\n",
    "    \n",
    "    Parameters:\n",
    "    A: 2D numpy array of the first matrix\n",
    "    B: 2D numpy array of the second matrix\n",
    "\n",
    "    Returns:\n",
    "    C: 2D numpy array of the same-padded 2D convolution matrix\n",
    "    '''"
   ]
  }
 ],
 "metadata": {
  "kernelspec": {
   "display_name": ".venv",
   "language": "python",
   "name": "python3"
  },
  "language_info": {
   "codemirror_mode": {
    "name": "ipython",
    "version": 3
   },
   "file_extension": ".py",
   "mimetype": "text/x-python",
   "name": "python",
   "nbconvert_exporter": "python",
   "pygments_lexer": "ipython3",
   "version": "3.12.2"
  }
 },
 "nbformat": 4,
 "nbformat_minor": 2
}
